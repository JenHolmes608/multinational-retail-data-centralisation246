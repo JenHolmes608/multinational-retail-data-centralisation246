{
 "cells": [
  {
   "cell_type": "code",
   "execution_count": 1,
   "metadata": {},
   "outputs": [],
   "source": [
    "import os\n",
    "os.environ['JAVA_HOME'] = r'C:\\Program Files\\Java\\jdk-22'\n",
    "import yaml\n",
    "\n",
    "from pandasgui import show\n",
    "from sqlalchemy import create_engine\n",
    "from sqlalchemy import inspect\n",
    "from sqlalchemy import text\n",
    "\n",
    "import boto3\n",
    "import numpy as np \n",
    "import pandas as pd\n",
    "import requests\n",
    "import tabula\n",
    "import yaml\n"
   ]
  },
  {
   "cell_type": "code",
   "execution_count": 2,
   "metadata": {},
   "outputs": [],
   "source": [
    "from database_utils import DatabaseConnector\n",
    "from data_extraction import DataExtractor\n",
    "from data_cleaning import DataCleaning"
   ]
  },
  {
   "cell_type": "code",
   "execution_count": 3,
   "metadata": {},
   "outputs": [
    {
     "name": "stderr",
     "output_type": "stream",
     "text": [
      "c:\\Users\\holme\\miniconda3\\envs\\mrdc\\lib\\site-packages\\tabula\\io.py:1045: FutureWarning: errors='ignore' is deprecated and will raise in a future version. Use to_numeric without passing `errors` and catch exceptions explicitly instead\n",
      "  df[c] = pd.to_numeric(df[c], errors=\"ignore\")\n"
     ]
    },
    {
     "name": "stdout",
     "output_type": "stream",
     "text": [
      "{'statusCode': 200, 'number_stores': 451}\n"
     ]
    }
   ],
   "source": [
    "if __name__ == \"__main__\":\n",
    "\n",
    "    yaml_file_path = 'db_creds.yaml'\n",
    "\n",
    "    RDS_CONNECTOR = DatabaseConnector(yaml_file_path)\n",
    "\n",
    "    RDS_CONNECTOR.init_db_engine()\n",
    "        \n",
    "    Display_Data = DataExtractor(RDS_CONNECTOR.engine)\n",
    "\n",
    "    store_details_df = Display_Data.reads_rds_table(\"legacy_store_details\")\n",
    "    user_data_df = Display_Data.reads_rds_table(\"legacy_users\")\n",
    "    orders_df = Display_Data.reads_rds_table(\"orders_table\")\n",
    "\n",
    "    pdf_url = 'https://data-handling-public.s3.eu-west-1.amazonaws.com/card_details.pdf'\n",
    "    card_details_df = Display_Data.retrieve_pdf_data(pdf_url)\n",
    "\n",
    "\n",
    "    number_of_stores_endpoint = 'https://aqj7u5id95.execute-api.eu-west-1.amazonaws.com/prod/number_stores'\n",
    "    retrieve_store_endpoint = 'store_details'\n",
    "\n",
    "    number_of_stores = Display_Data.list_number_of_stores(number_of_stores_endpoint)\n",
    "    stores_df = Display_Data.retrieve_stores_data(retrieve_store_endpoint, number_of_stores)\n",
    "\n",
    "    s3_address = 's3://data-handling-public/products.csv'\n",
    "    product_df = Display_Data.extract_from_s3(s3_address)\n",
    "\n",
    "    date_events_url = 'https://data-handling-public.s3.eu-west-1.amazonaws.com/date_details.json'\n",
    "    date_events_df = Display_Data.extract_date_events_data(date_events_url)\n",
    "\n",
    "    yaml_file_path2 = 'local_db_cred.yaml'\n",
    "    LOCAL_CONNECTOR = DatabaseConnector(yaml_file_path2)\n",
    "\n",
    "    LOCAL_CONNECTOR.init_db_engine()\n",
    "\n",
    "    clean_user_data = DataCleaning(user_data_df)\n",
    "    cleaned_user_data = clean_user_data.clean_legacy_users()\n",
    "    LOCAL_CONNECTOR.upload_to_db(cleaned_user_data, 'dim_users')\n",
    "\n",
    "    clean_orders_data = DataCleaning(orders_df)\n",
    "    cleaned_orders_data = clean_orders_data.clean_orders_data()\n",
    "    LOCAL_CONNECTOR.upload_to_db(cleaned_orders_data, 'orders_table')\n",
    "\n",
    "    clean_card_details_data = DataCleaning(card_details_df)\n",
    "    cleaned_card_details_data = clean_card_details_data.clean_card_data()\n",
    "    LOCAL_CONNECTOR.upload_to_db(cleaned_card_details_data, 'dim_card_details')\n",
    "\n",
    "    clean_stores_data = DataCleaning(stores_df)\n",
    "    cleaned_stores_data = clean_stores_data.clean_store_data()\n",
    "    LOCAL_CONNECTOR.upload_to_db(cleaned_stores_data, 'dim_store_details')\n",
    "\n",
    "    clean_product_data = DataCleaning(product_df)\n",
    "    cleaned_product_data = clean_product_data.clean_products_data()\n",
    "    cleaned_product_data = clean_product_data.convert_product_weights()\n",
    "    LOCAL_CONNECTOR.upload_to_db(cleaned_product_data, 'dim_products')\n",
    "\n",
    "    clean_date_events_data = DataCleaning(date_events_df)\n",
    "    cleaned_date_events_data = clean_date_events_data.clean_date_events_data()\n",
    "    LOCAL_CONNECTOR.upload_to_db(cleaned_date_events_data, 'dim_dates_times')\n"
   ]
  }
 ],
 "metadata": {
  "kernelspec": {
   "display_name": "mrdc",
   "language": "python",
   "name": "python3"
  },
  "language_info": {
   "codemirror_mode": {
    "name": "ipython",
    "version": 3
   },
   "file_extension": ".py",
   "mimetype": "text/x-python",
   "name": "python",
   "nbconvert_exporter": "python",
   "pygments_lexer": "ipython3",
   "version": "3.10.13"
  }
 },
 "nbformat": 4,
 "nbformat_minor": 2
}
